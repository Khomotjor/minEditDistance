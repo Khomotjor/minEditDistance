{
 "cells": [
  {
   "cell_type": "code",
   "execution_count": 3,
   "id": "e60919aa",
   "metadata": {},
   "outputs": [],
   "source": [
    " import numpy as np"
   ]
  },
  {
   "cell_type": "code",
   "execution_count": 6,
   "id": "2e5c8976",
   "metadata": {},
   "outputs": [],
   "source": [
    "def min_ed_dis(target,source):\n",
    "    #min_ed_dis - minimum edit distance\n",
    "    #target- the correct word\n",
    "    #source- the written word\n",
    "    \n",
    "    #Build matric of the correct size\n",
    "    target = [k for k in target]\n",
    "    source = [k for k in source]\n",
    "    sol = np.zeros ((len(source), len(target)))\n",
    "    \n",
    "    # first row and column\n",
    "    sol[0] = [j for j in range(len(target))]\n",
    "    sol[:,0] = [j for j in range(len(source))]\n",
    "    \n",
    "    #Add anchor value\n",
    "    if target [1] != source[1]:\n",
    "        sol[1,1] = 2\n",
    "        \n",
    "        # Fill in the rest\n",
    "        \n",
    "        # Throgh every column\n",
    "        for c in range (1, len(target)):\n",
    "            \n",
    "            # Through every row\n",
    "            for r in range(1, len(source)):\n",
    "                \n",
    "                #Not same letter\n",
    "                if target[c] != source[r]:\n",
    "                    sol[r,c] = min(sol[r-1,c],sol[r,c-1]) + 1\n",
    "                    \n",
    "                    # Same letter\n",
    "                else:\n",
    "                    sol[r,c] = sol[r-1,c-1]\n",
    "                        \n",
    "    return sol"
   ]
  },
  {
   "cell_type": "code",
   "execution_count": 8,
   "id": "c2e181d5",
   "metadata": {},
   "outputs": [
    {
     "data": {
      "text/plain": [
       "array([[0., 1., 2., 3., 4., 5., 6.],\n",
       "       [1., 2., 3., 4., 5., 6., 7.],\n",
       "       [2., 3., 4., 5., 6., 7., 8.],\n",
       "       [3., 4., 5., 6., 7., 8., 9.],\n",
       "       [4., 5., 6., 5., 6., 7., 8.],\n",
       "       [5., 6., 7., 6., 7., 8., 9.],\n",
       "       [6., 7., 8., 7., 8., 7., 8.]])"
      ]
     },
     "execution_count": 8,
     "metadata": {},
     "output_type": "execute_result"
    }
   ],
   "source": [
    "min_ed_dis(\"#target\",\"#source\")"
   ]
  },
  {
   "cell_type": "code",
   "execution_count": 7,
   "id": "9dae1e5c",
   "metadata": {},
   "outputs": [
    {
     "data": {
      "text/plain": [
       "array([[0., 1., 2., 3., 4., 5., 6., 7.],\n",
       "       [1., 0., 0., 0., 0., 0., 0., 0.],\n",
       "       [2., 0., 0., 0., 0., 0., 0., 0.],\n",
       "       [3., 0., 0., 0., 0., 0., 0., 0.],\n",
       "       [4., 0., 0., 0., 0., 0., 0., 0.],\n",
       "       [5., 0., 0., 0., 0., 0., 0., 0.],\n",
       "       [6., 0., 0., 0., 0., 0., 0., 0.],\n",
       "       [7., 0., 0., 0., 0., 0., 0., 0.]])"
      ]
     },
     "execution_count": 7,
     "metadata": {},
     "output_type": "execute_result"
    }
   ],
   "source": [
    "min_ed_dis(\"#connect\",\"#contact\")"
   ]
  },
  {
   "cell_type": "code",
   "execution_count": 41,
   "id": "101a78f2",
   "metadata": {},
   "outputs": [
    {
     "ename": "NameError",
     "evalue": "name 'target' is not defined",
     "output_type": "error",
     "traceback": [
      "\u001b[1;31m---------------------------------------------------------------------------\u001b[0m",
      "\u001b[1;31mNameError\u001b[0m                                 Traceback (most recent call last)",
      "\u001b[1;32mC:\\Users\\NDABAN~1\\AppData\\Local\\Temp/ipykernel_11804/866163696.py\u001b[0m in \u001b[0;36m<module>\u001b[1;34m\u001b[0m\n\u001b[1;32m----> 1\u001b[1;33m \u001b[0mmin_ed_dis\u001b[0m\u001b[1;33m(\u001b[0m\u001b[0mtarget\u001b[0m\u001b[1;33m,\u001b[0m\u001b[0msource\u001b[0m\u001b[1;33m)\u001b[0m\u001b[1;33m\u001b[0m\u001b[1;33m\u001b[0m\u001b[0m\n\u001b[0m",
      "\u001b[1;31mNameError\u001b[0m: name 'target' is not defined"
     ]
    }
   ],
   "source": [
    "min_ed_dis(target,source)"
   ]
  },
  {
   "cell_type": "code",
   "execution_count": 42,
   "id": "d4992bd1",
   "metadata": {},
   "outputs": [
    {
     "data": {
      "text/plain": [
       "array([[0., 1., 2., 3., 4., 5., 6.],\n",
       "       [1., 2., 3., 4., 5., 6., 7.],\n",
       "       [2., 3., 4., 5., 6., 7., 8.],\n",
       "       [3., 4., 5., 6., 7., 8., 9.],\n",
       "       [4., 5., 6., 5., 6., 7., 8.],\n",
       "       [5., 6., 7., 6., 7., 8., 9.],\n",
       "       [6., 7., 8., 7., 8., 7., 8.]])"
      ]
     },
     "execution_count": 42,
     "metadata": {},
     "output_type": "execute_result"
    }
   ],
   "source": [
    "min_ed_dis(\"#target\",\"#source\")"
   ]
  },
  {
   "cell_type": "code",
   "execution_count": 49,
   "id": "73bf936f",
   "metadata": {},
   "outputs": [
    {
     "data": {
      "text/plain": [
       "array([[0., 1., 2., 3., 4., 5., 6., 7.],\n",
       "       [1., 0., 0., 0., 0., 0., 0., 0.],\n",
       "       [2., 0., 0., 0., 0., 0., 0., 0.],\n",
       "       [3., 0., 0., 0., 0., 0., 0., 0.],\n",
       "       [4., 0., 0., 0., 0., 0., 0., 0.],\n",
       "       [5., 0., 0., 0., 0., 0., 0., 0.],\n",
       "       [6., 0., 0., 0., 0., 0., 0., 0.],\n",
       "       [7., 0., 0., 0., 0., 0., 0., 0.]])"
      ]
     },
     "execution_count": 49,
     "metadata": {},
     "output_type": "execute_result"
    }
   ],
   "source": [
    "min_ed_dis(\"#connect\",\"#contact\")"
   ]
  },
  {
   "cell_type": "code",
   "execution_count": 44,
   "id": "501bb04f",
   "metadata": {},
   "outputs": [
    {
     "data": {
      "text/plain": [
       "array([[0., 1., 2., 3., 4., 5.],\n",
       "       [1., 2., 3., 4., 5., 6.],\n",
       "       [2., 3., 4., 5., 6., 7.],\n",
       "       [3., 4., 5., 6., 7., 8.],\n",
       "       [4., 5., 6., 7., 8., 9.]])"
      ]
     },
     "execution_count": 44,
     "metadata": {},
     "output_type": "execute_result"
    }
   ],
   "source": [
    "min_ed_dis(\"#khomo\",\"#paul\")"
   ]
  },
  {
   "cell_type": "code",
   "execution_count": 47,
   "id": "90dae963",
   "metadata": {},
   "outputs": [
    {
     "data": {
      "text/plain": [
       "array([[0., 1., 2., 3., 4., 5., 6.],\n",
       "       [1., 0., 0., 0., 0., 0., 0.],\n",
       "       [2., 0., 0., 0., 0., 0., 0.],\n",
       "       [3., 0., 0., 0., 0., 0., 0.],\n",
       "       [4., 0., 0., 0., 0., 0., 0.],\n",
       "       [5., 0., 0., 0., 0., 0., 0.],\n",
       "       [6., 0., 0., 0., 0., 0., 0.]])"
      ]
     },
     "execution_count": 47,
     "metadata": {},
     "output_type": "execute_result"
    }
   ],
   "source": [
    "min_ed_dis(\"commute\",\"contact\")"
   ]
  },
  {
   "cell_type": "code",
   "execution_count": 48,
   "id": "5ac5bb3e",
   "metadata": {},
   "outputs": [
    {
     "data": {
      "text/plain": [
       "array([[ 0.,  1.,  2.,  3.,  4.,  5.,  6.],\n",
       "       [ 1.,  2.,  3.,  4.,  5.,  6.,  7.],\n",
       "       [ 2.,  3.,  4.,  5.,  6.,  7.,  8.],\n",
       "       [ 3.,  4.,  5.,  6.,  7.,  8.,  9.],\n",
       "       [ 4.,  5.,  6.,  7.,  8.,  9., 10.],\n",
       "       [ 5.,  6.,  7.,  8.,  9., 10., 11.]])"
      ]
     },
     "execution_count": 48,
     "metadata": {},
     "output_type": "execute_result"
    }
   ],
   "source": [
    "min_ed_dis(\"contact\",\"lesedi\")"
   ]
  },
  {
   "cell_type": "code",
   "execution_count": null,
   "id": "3d171cba",
   "metadata": {},
   "outputs": [],
   "source": []
  }
 ],
 "metadata": {
  "kernelspec": {
   "display_name": "Python 3 (ipykernel)",
   "language": "python",
   "name": "python3"
  },
  "language_info": {
   "codemirror_mode": {
    "name": "ipython",
    "version": 3
   },
   "file_extension": ".py",
   "mimetype": "text/x-python",
   "name": "python",
   "nbconvert_exporter": "python",
   "pygments_lexer": "ipython3",
   "version": "3.9.7"
  }
 },
 "nbformat": 4,
 "nbformat_minor": 5
}
